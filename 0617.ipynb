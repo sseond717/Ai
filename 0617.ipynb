{
 "cells": [
  {
   "cell_type": "code",
   "execution_count": 56,
   "metadata": {},
   "outputs": [],
   "source": [
    "import numpy as np\n",
    "import pandas as pd\n",
    "import matplotlib.pyplot as plt\n",
    "import seaborn as sns\n",
    "import tensorflow as tf\n",
    "from tensorflow import keras\n",
    "%matplotlib inline\n",
    "data = pd.read_csv(\"/home/kiro04/Documents/robot_ws/i_robot_ws/data/house_price-train.csv\")"
   ]
  },
  {
   "cell_type": "code",
   "execution_count": 57,
   "metadata": {},
   "outputs": [
    {
     "name": "stdout",
     "output_type": "stream",
     "text": [
      "        Id  MSSubClass MSZoning  LotFrontage  LotArea Street Alley LotShape  \\\n",
      "0        1          60       RL         65.0     8450   Pave   NaN      Reg   \n",
      "1        2          20       RL         80.0     9600   Pave   NaN      Reg   \n",
      "2        3          60       RL         68.0    11250   Pave   NaN      IR1   \n",
      "3        4          70       RL         60.0     9550   Pave   NaN      IR1   \n",
      "4        5          60       RL         84.0    14260   Pave   NaN      IR1   \n",
      "...    ...         ...      ...          ...      ...    ...   ...      ...   \n",
      "1455  1456          60       RL         62.0     7917   Pave   NaN      Reg   \n",
      "1456  1457          20       RL         85.0    13175   Pave   NaN      Reg   \n",
      "1457  1458          70       RL         66.0     9042   Pave   NaN      Reg   \n",
      "1458  1459          20       RL         68.0     9717   Pave   NaN      Reg   \n",
      "1459  1460          20       RL         75.0     9937   Pave   NaN      Reg   \n",
      "\n",
      "     LandContour Utilities  ... PoolArea PoolQC  Fence MiscFeature MiscVal  \\\n",
      "0            Lvl    AllPub  ...        0    NaN    NaN         NaN       0   \n",
      "1            Lvl    AllPub  ...        0    NaN    NaN         NaN       0   \n",
      "2            Lvl    AllPub  ...        0    NaN    NaN         NaN       0   \n",
      "3            Lvl    AllPub  ...        0    NaN    NaN         NaN       0   \n",
      "4            Lvl    AllPub  ...        0    NaN    NaN         NaN       0   \n",
      "...          ...       ...  ...      ...    ...    ...         ...     ...   \n",
      "1455         Lvl    AllPub  ...        0    NaN    NaN         NaN       0   \n",
      "1456         Lvl    AllPub  ...        0    NaN  MnPrv         NaN       0   \n",
      "1457         Lvl    AllPub  ...        0    NaN  GdPrv        Shed    2500   \n",
      "1458         Lvl    AllPub  ...        0    NaN    NaN         NaN       0   \n",
      "1459         Lvl    AllPub  ...        0    NaN    NaN         NaN       0   \n",
      "\n",
      "     MoSold YrSold  SaleType  SaleCondition  SalePrice  \n",
      "0         2   2008        WD         Normal     208500  \n",
      "1         5   2007        WD         Normal     181500  \n",
      "2         9   2008        WD         Normal     223500  \n",
      "3         2   2006        WD        Abnorml     140000  \n",
      "4        12   2008        WD         Normal     250000  \n",
      "...     ...    ...       ...            ...        ...  \n",
      "1455      8   2007        WD         Normal     175000  \n",
      "1456      2   2010        WD         Normal     210000  \n",
      "1457      5   2010        WD         Normal     266500  \n",
      "1458      4   2010        WD         Normal     142125  \n",
      "1459      6   2008        WD         Normal     147500  \n",
      "\n",
      "[1460 rows x 81 columns]\n"
     ]
    },
    {
     "data": {
      "text/plain": [
       "(1460, 81)"
      ]
     },
     "execution_count": 57,
     "metadata": {},
     "output_type": "execute_result"
    }
   ],
   "source": [
    "print(data)\n",
    "data.shape"
   ]
  },
  {
   "cell_type": "code",
   "execution_count": 58,
   "metadata": {},
   "outputs": [],
   "source": [
    "\n",
    "non_numeric_columns = data.select_dtypes(exclude=np.number).columns\n",
    "from sklearn.preprocessing import LabelEncoder\n",
    "label_encoder = LabelEncoder()\n",
    "for i in non_numeric_columns:\n",
    "    data[i] = label_encoder.fit_transform(data[i])"
   ]
  },
  {
   "cell_type": "code",
   "execution_count": 59,
   "metadata": {},
   "outputs": [
    {
     "name": "stdout",
     "output_type": "stream",
     "text": [
      "            Id  MSSubClass  MSZoning  LotFrontage   LotArea  Street  Alley  \\\n",
      "0     0.000000    0.235294      0.75     0.150685  0.033420     1.0    1.0   \n",
      "1     0.000685    0.000000      0.75     0.202055  0.038795     1.0    1.0   \n",
      "2     0.001371    0.235294      0.75     0.160959  0.046507     1.0    1.0   \n",
      "3     0.002056    0.294118      0.75     0.133562  0.038561     1.0    1.0   \n",
      "4     0.002742    0.235294      0.75     0.215753  0.060576     1.0    1.0   \n",
      "...        ...         ...       ...          ...       ...     ...    ...   \n",
      "1455  0.997258    0.235294      0.75     0.140411  0.030929     1.0    1.0   \n",
      "1456  0.997944    0.000000      0.75     0.219178  0.055505     1.0    1.0   \n",
      "1457  0.998629    0.294118      0.75     0.154110  0.036187     1.0    1.0   \n",
      "1458  0.999315    0.000000      0.75     0.160959  0.039342     1.0    1.0   \n",
      "1459  1.000000    0.000000      0.75     0.184932  0.040370     1.0    1.0   \n",
      "\n",
      "      LotShape  LandContour  Utilities  ...  PoolArea  PoolQC  Fence  \\\n",
      "0          1.0          1.0        0.0  ...       0.0     1.0    1.0   \n",
      "1          1.0          1.0        0.0  ...       0.0     1.0    1.0   \n",
      "2          0.0          1.0        0.0  ...       0.0     1.0    1.0   \n",
      "3          0.0          1.0        0.0  ...       0.0     1.0    1.0   \n",
      "4          0.0          1.0        0.0  ...       0.0     1.0    1.0   \n",
      "...        ...          ...        ...  ...       ...     ...    ...   \n",
      "1455       1.0          1.0        0.0  ...       0.0     1.0    1.0   \n",
      "1456       1.0          1.0        0.0  ...       0.0     1.0    0.5   \n",
      "1457       1.0          1.0        0.0  ...       0.0     1.0    0.0   \n",
      "1458       1.0          1.0        0.0  ...       0.0     1.0    1.0   \n",
      "1459       1.0          1.0        0.0  ...       0.0     1.0    1.0   \n",
      "\n",
      "      MiscFeature  MiscVal    MoSold  YrSold  SaleType  SaleCondition  \\\n",
      "0             1.0  0.00000  0.090909    0.50       1.0            0.8   \n",
      "1             1.0  0.00000  0.363636    0.25       1.0            0.8   \n",
      "2             1.0  0.00000  0.727273    0.50       1.0            0.8   \n",
      "3             1.0  0.00000  0.090909    0.00       1.0            0.0   \n",
      "4             1.0  0.00000  1.000000    0.50       1.0            0.8   \n",
      "...           ...      ...       ...     ...       ...            ...   \n",
      "1455          1.0  0.00000  0.636364    0.25       1.0            0.8   \n",
      "1456          1.0  0.00000  0.090909    1.00       1.0            0.8   \n",
      "1457          0.5  0.16129  0.363636    1.00       1.0            0.8   \n",
      "1458          1.0  0.00000  0.272727    1.00       1.0            0.8   \n",
      "1459          1.0  0.00000  0.454545    0.50       1.0            0.8   \n",
      "\n",
      "      SalePrice  \n",
      "0      0.241078  \n",
      "1      0.203583  \n",
      "2      0.261908  \n",
      "3      0.145952  \n",
      "4      0.298709  \n",
      "...         ...  \n",
      "1455   0.194556  \n",
      "1456   0.243161  \n",
      "1457   0.321622  \n",
      "1458   0.148903  \n",
      "1459   0.156367  \n",
      "\n",
      "[1460 rows x 81 columns]\n"
     ]
    }
   ],
   "source": [
    "from sklearn import preprocessing\n",
    "min_max_scaler = preprocessing.MinMaxScaler()\n",
    "numeric_columns = data.select_dtypes([\"int64\",\"float64\"]).columns\n",
    "data[numeric_columns] = min_max_scaler.fit_transform(data[numeric_columns])\n",
    "print(data)"
   ]
  },
  {
   "cell_type": "code",
   "execution_count": 60,
   "metadata": {},
   "outputs": [
    {
     "name": "stdout",
     "output_type": "stream",
     "text": [
      "LotFrontage     259\n",
      "GarageYrBlt      81\n",
      "MasVnrArea        8\n",
      "Id                0\n",
      "KitchenAbvGr      0\n",
      "               ... \n",
      "ExterQual         0\n",
      "MasVnrType        0\n",
      "Exterior2nd       0\n",
      "Exterior1st       0\n",
      "SalePrice         0\n",
      "Length: 81, dtype: int64\n"
     ]
    }
   ],
   "source": [
    "missing_values = data.isnull().sum().sort_values(ascending=False)\n",
    "print(missing_values)"
   ]
  },
  {
   "cell_type": "code",
   "execution_count": 66,
   "metadata": {},
   "outputs": [
    {
     "name": "stdout",
     "output_type": "stream",
     "text": [
      "            Id  MSSubClass  MSZoning   LotArea  Street  Alley  LotShape  \\\n",
      "0     0.000000    0.235294      0.75  0.033420     1.0    1.0       1.0   \n",
      "1     0.000685    0.000000      0.75  0.038795     1.0    1.0       1.0   \n",
      "2     0.001371    0.235294      0.75  0.046507     1.0    1.0       0.0   \n",
      "3     0.002056    0.294118      0.75  0.038561     1.0    1.0       0.0   \n",
      "4     0.002742    0.235294      0.75  0.060576     1.0    1.0       0.0   \n",
      "...        ...         ...       ...       ...     ...    ...       ...   \n",
      "1455  0.997258    0.235294      0.75  0.030929     1.0    1.0       1.0   \n",
      "1456  0.997944    0.000000      0.75  0.055505     1.0    1.0       1.0   \n",
      "1457  0.998629    0.294118      0.75  0.036187     1.0    1.0       1.0   \n",
      "1458  0.999315    0.000000      0.75  0.039342     1.0    1.0       1.0   \n",
      "1459  1.000000    0.000000      0.75  0.040370     1.0    1.0       1.0   \n",
      "\n",
      "      LandContour  Utilities  LotConfig  ...  PoolArea  PoolQC  Fence  \\\n",
      "0             1.0        0.0        1.0  ...       0.0     1.0    1.0   \n",
      "1             1.0        0.0        0.5  ...       0.0     1.0    1.0   \n",
      "2             1.0        0.0        1.0  ...       0.0     1.0    1.0   \n",
      "3             1.0        0.0        0.0  ...       0.0     1.0    1.0   \n",
      "4             1.0        0.0        0.5  ...       0.0     1.0    1.0   \n",
      "...           ...        ...        ...  ...       ...     ...    ...   \n",
      "1455          1.0        0.0        1.0  ...       0.0     1.0    1.0   \n",
      "1456          1.0        0.0        1.0  ...       0.0     1.0    0.5   \n",
      "1457          1.0        0.0        1.0  ...       0.0     1.0    0.0   \n",
      "1458          1.0        0.0        1.0  ...       0.0     1.0    1.0   \n",
      "1459          1.0        0.0        1.0  ...       0.0     1.0    1.0   \n",
      "\n",
      "      MiscFeature  MiscVal    MoSold  YrSold  SaleType  SaleCondition  \\\n",
      "0             1.0  0.00000  0.090909    0.50       1.0            0.8   \n",
      "1             1.0  0.00000  0.363636    0.25       1.0            0.8   \n",
      "2             1.0  0.00000  0.727273    0.50       1.0            0.8   \n",
      "3             1.0  0.00000  0.090909    0.00       1.0            0.0   \n",
      "4             1.0  0.00000  1.000000    0.50       1.0            0.8   \n",
      "...           ...      ...       ...     ...       ...            ...   \n",
      "1455          1.0  0.00000  0.636364    0.25       1.0            0.8   \n",
      "1456          1.0  0.00000  0.090909    1.00       1.0            0.8   \n",
      "1457          0.5  0.16129  0.363636    1.00       1.0            0.8   \n",
      "1458          1.0  0.00000  0.272727    1.00       1.0            0.8   \n",
      "1459          1.0  0.00000  0.454545    0.50       1.0            0.8   \n",
      "\n",
      "      SalePrice  \n",
      "0      0.241078  \n",
      "1      0.203583  \n",
      "2      0.261908  \n",
      "3      0.145952  \n",
      "4      0.298709  \n",
      "...         ...  \n",
      "1455   0.194556  \n",
      "1456   0.243161  \n",
      "1457   0.321622  \n",
      "1458   0.148903  \n",
      "1459   0.156367  \n",
      "\n",
      "[1460 rows x 78 columns]\n"
     ]
    }
   ],
   "source": [
    "data_filtered = data.loc[:,~data.columns.isin([\"LotFrontage\",\"GarageYrBlt\",\"MasVnrArea\"])]\n",
    "print(data_filtered)"
   ]
  },
  {
   "cell_type": "code",
   "execution_count": 69,
   "metadata": {},
   "outputs": [
    {
     "data": {
      "text/html": [
       "<style>#sk-container-id-3 {color: black;background-color: white;}#sk-container-id-3 pre{padding: 0;}#sk-container-id-3 div.sk-toggleable {background-color: white;}#sk-container-id-3 label.sk-toggleable__label {cursor: pointer;display: block;width: 100%;margin-bottom: 0;padding: 0.3em;box-sizing: border-box;text-align: center;}#sk-container-id-3 label.sk-toggleable__label-arrow:before {content: \"▸\";float: left;margin-right: 0.25em;color: #696969;}#sk-container-id-3 label.sk-toggleable__label-arrow:hover:before {color: black;}#sk-container-id-3 div.sk-estimator:hover label.sk-toggleable__label-arrow:before {color: black;}#sk-container-id-3 div.sk-toggleable__content {max-height: 0;max-width: 0;overflow: hidden;text-align: left;background-color: #f0f8ff;}#sk-container-id-3 div.sk-toggleable__content pre {margin: 0.2em;color: black;border-radius: 0.25em;background-color: #f0f8ff;}#sk-container-id-3 input.sk-toggleable__control:checked~div.sk-toggleable__content {max-height: 200px;max-width: 100%;overflow: auto;}#sk-container-id-3 input.sk-toggleable__control:checked~label.sk-toggleable__label-arrow:before {content: \"▾\";}#sk-container-id-3 div.sk-estimator input.sk-toggleable__control:checked~label.sk-toggleable__label {background-color: #d4ebff;}#sk-container-id-3 div.sk-label input.sk-toggleable__control:checked~label.sk-toggleable__label {background-color: #d4ebff;}#sk-container-id-3 input.sk-hidden--visually {border: 0;clip: rect(1px 1px 1px 1px);clip: rect(1px, 1px, 1px, 1px);height: 1px;margin: -1px;overflow: hidden;padding: 0;position: absolute;width: 1px;}#sk-container-id-3 div.sk-estimator {font-family: monospace;background-color: #f0f8ff;border: 1px dotted black;border-radius: 0.25em;box-sizing: border-box;margin-bottom: 0.5em;}#sk-container-id-3 div.sk-estimator:hover {background-color: #d4ebff;}#sk-container-id-3 div.sk-parallel-item::after {content: \"\";width: 100%;border-bottom: 1px solid gray;flex-grow: 1;}#sk-container-id-3 div.sk-label:hover label.sk-toggleable__label {background-color: #d4ebff;}#sk-container-id-3 div.sk-serial::before {content: \"\";position: absolute;border-left: 1px solid gray;box-sizing: border-box;top: 0;bottom: 0;left: 50%;z-index: 0;}#sk-container-id-3 div.sk-serial {display: flex;flex-direction: column;align-items: center;background-color: white;padding-right: 0.2em;padding-left: 0.2em;position: relative;}#sk-container-id-3 div.sk-item {position: relative;z-index: 1;}#sk-container-id-3 div.sk-parallel {display: flex;align-items: stretch;justify-content: center;background-color: white;position: relative;}#sk-container-id-3 div.sk-item::before, #sk-container-id-3 div.sk-parallel-item::before {content: \"\";position: absolute;border-left: 1px solid gray;box-sizing: border-box;top: 0;bottom: 0;left: 50%;z-index: -1;}#sk-container-id-3 div.sk-parallel-item {display: flex;flex-direction: column;z-index: 1;position: relative;background-color: white;}#sk-container-id-3 div.sk-parallel-item:first-child::after {align-self: flex-end;width: 50%;}#sk-container-id-3 div.sk-parallel-item:last-child::after {align-self: flex-start;width: 50%;}#sk-container-id-3 div.sk-parallel-item:only-child::after {width: 0;}#sk-container-id-3 div.sk-dashed-wrapped {border: 1px dashed gray;margin: 0 0.4em 0.5em 0.4em;box-sizing: border-box;padding-bottom: 0.4em;background-color: white;}#sk-container-id-3 div.sk-label label {font-family: monospace;font-weight: bold;display: inline-block;line-height: 1.2em;}#sk-container-id-3 div.sk-label-container {text-align: center;}#sk-container-id-3 div.sk-container {/* jupyter's `normalize.less` sets `[hidden] { display: none; }` but bootstrap.min.css set `[hidden] { display: none !important; }` so we also need the `!important` here to be able to override the default hidden behavior on the sphinx rendered scikit-learn.org. See: https://github.com/scikit-learn/scikit-learn/issues/21755 */display: inline-block !important;position: relative;}#sk-container-id-3 div.sk-text-repr-fallback {display: none;}</style><div id=\"sk-container-id-3\" class=\"sk-top-container\"><div class=\"sk-text-repr-fallback\"><pre>LinearRegression()</pre><b>In a Jupyter environment, please rerun this cell to show the HTML representation or trust the notebook. <br />On GitHub, the HTML representation is unable to render, please try loading this page with nbviewer.org.</b></div><div class=\"sk-container\" hidden><div class=\"sk-item\"><div class=\"sk-estimator sk-toggleable\"><input class=\"sk-toggleable__control sk-hidden--visually\" id=\"sk-estimator-id-3\" type=\"checkbox\" checked><label for=\"sk-estimator-id-3\" class=\"sk-toggleable__label sk-toggleable__label-arrow\">LinearRegression</label><div class=\"sk-toggleable__content\"><pre>LinearRegression()</pre></div></div></div></div></div>"
      ],
      "text/plain": [
       "LinearRegression()"
      ]
     },
     "execution_count": 69,
     "metadata": {},
     "output_type": "execute_result"
    }
   ],
   "source": [
    "from sklearn.linear_model import LinearRegression\n",
    "\n",
    "x_train = data_filtered.to_numpy(dtype=np.float32)[:1000,:-1]\n",
    "y_train = data_filtered.to_numpy(dtype=np.float32)[:1000,-1]\n",
    "\n",
    "model = LinearRegression()\n",
    "model.fit(x_train,y_train)"
   ]
  },
  {
   "cell_type": "code",
   "execution_count": 92,
   "metadata": {},
   "outputs": [
    {
     "data": {
      "image/png": "[encoded data removed]",
      "text/plain": [
       "<Figure size 640x480 with 1 Axes>"
      ]
     },
     "metadata": {},
     "output_type": "display_data"
    },
    {
     "name": "stdout",
     "output_type": "stream",
     "text": [
      "score= 0.7080829627345578\n"
     ]
    },
    {
     "data": {
      "text/plain": [
       "<matplotlib.collections.PathCollection at 0x7fd363654c40>"
      ]
     },
     "execution_count": 92,
     "metadata": {},
     "output_type": "execute_result"
    },
    {
     "data": {
      "image/png": "[encoded data removed]",
      "text/plain": [
       "<Figure size 640x480 with 1 Axes>"
      ]
     },
     "metadata": {},
     "output_type": "display_data"
    }
   ],
   "source": [
    "y_test = data_filtered.to_numpy(dtype = np.float32)[1000:,-1,np.newaxis]\n",
    "y_predict = model.predict(x_test)\n",
    "fig = plt.figure()\n",
    "plt.scatter(y_test, y_predict, alpha=.5, c=['r'])\n",
    "plt.show()\n",
    "score = model.score(x_test, y_test)\n",
    "print(f\"score= {score}\")\n",
    "plt.scatter(y_predict, y_test, c= 'w')#착한 사람 눈에 만 보이는 그래프 * 작성자는 안착해서 안보임"
   ]
  }
 ],
 "metadata": {
  "kernelspec": {
   "display_name": "Python 3",
   "language": "python",
   "name": "python3"
  },
  "language_info": {
   "codemirror_mode": {
    "name": "ipython",
    "version": 3
   },
   "file_extension": ".py",
   "mimetype": "text/x-python",
   "name": "python",
   "nbconvert_exporter": "python",
   "pygments_lexer": "ipython3",
   "version": "3.10.6"
  },
  "orig_nbformat": 4
 },
 "nbformat": 4,
 "nbformat_minor": 2
}
